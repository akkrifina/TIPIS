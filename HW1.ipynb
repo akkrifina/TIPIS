{
  "nbformat": 4,
  "nbformat_minor": 0,
  "metadata": {
    "colab": {
      "provenance": []
    },
    "kernelspec": {
      "name": "python3",
      "display_name": "Python 3"
    },
    "language_info": {
      "name": "python"
    }
  },
  "cells": [
    {
      "cell_type": "code",
      "execution_count": 6,
      "metadata": {
        "colab": {
          "base_uri": "https://localhost:8080/"
        },
        "id": "XscKpH1ZV987",
        "outputId": "3a9ab964-b4a8-473e-cf43-fa872a28fcfa"
      },
      "outputs": [
        {
          "output_type": "stream",
          "name": "stdout",
          "text": [
            "Requirement already satisfied: ucimlrepo in /usr/local/lib/python3.12/dist-packages (0.0.7)\n",
            "Requirement already satisfied: pandas>=1.0.0 in /usr/local/lib/python3.12/dist-packages (from ucimlrepo) (2.2.2)\n",
            "Requirement already satisfied: certifi>=2020.12.5 in /usr/local/lib/python3.12/dist-packages (from ucimlrepo) (2025.8.3)\n",
            "Requirement already satisfied: numpy>=1.26.0 in /usr/local/lib/python3.12/dist-packages (from pandas>=1.0.0->ucimlrepo) (2.0.2)\n",
            "Requirement already satisfied: python-dateutil>=2.8.2 in /usr/local/lib/python3.12/dist-packages (from pandas>=1.0.0->ucimlrepo) (2.9.0.post0)\n",
            "Requirement already satisfied: pytz>=2020.1 in /usr/local/lib/python3.12/dist-packages (from pandas>=1.0.0->ucimlrepo) (2025.2)\n",
            "Requirement already satisfied: tzdata>=2022.7 in /usr/local/lib/python3.12/dist-packages (from pandas>=1.0.0->ucimlrepo) (2025.2)\n",
            "Requirement already satisfied: six>=1.5 in /usr/local/lib/python3.12/dist-packages (from python-dateutil>=2.8.2->pandas>=1.0.0->ucimlrepo) (1.17.0)\n",
            "1) Число столбцов в наборе данных: 15\n",
            "2) Пропуски есть в столбцах: [['workclass', 963], ['occupation', 966], ['native-country', 274]]\n",
            "3) Количество уникальных значений в столбце race: 5\n",
            "4) Медиана hours-per-week: 40.0\n",
            "5) С ЗП >50K больше мужчин (мужчин: 6662, женщин: 1179)\n",
            "6) Заполнение пропущенных данных:\n",
            "   Столбец 'workclass': заполнен значением 'Private'\n",
            "   Столбец 'occupation': заполнен значением 'Prof-specialty'\n",
            "   Столбец 'native-country': заполнен значением 'United-States'\n"
          ]
        }
      ],
      "source": [
        "!pip install ucimlrepo\n",
        "import pandas as pd\n",
        "from ucimlrepo import fetch_ucirepo\n",
        "\n",
        "adult = fetch_ucirepo(id=2)\n",
        "feat = adult.data.features.copy()\n",
        "aim = adult.data.targets.copy()\n",
        "\n",
        "q1 = feat.columns.size + aim.columns.size\n",
        "print(f\"1) Число столбцов в наборе данных: {q1}\")\n",
        "\n",
        "missing_feat = [[i, int(feat[i].isnull().sum())] for i in feat.columns if feat[i].isnull().sum() > 0]\n",
        "missing_aim = [[i, int(aim[i].isnull().sum())] for i in aim.columns if aim[i].isnull().sum() > 0]\n",
        "missing_all = missing_feat + missing_aim\n",
        "if missing_all:\n",
        "    print(f\"2) Пропуски есть в столбцах: {missing_all}\")\n",
        "else:\n",
        "    print(\"2) Пропусков в данных нет\")\n",
        "\n",
        "q3 = len(feat['race'].unique())\n",
        "print(f\"3) Количество уникальных значений в столбце race: {q3}\")\n",
        "\n",
        "q4 = feat['hours-per-week'].median()\n",
        "print(f\"4) Медиана hours-per-week: {q4}\")\n",
        "\n",
        "dat = pd.concat([feat, aim], axis=1)\n",
        "Mzp = len(dat[(dat['income'] == '>50K') & (dat['sex'] == 'Male')])\n",
        "Wzp = len(dat[(dat['income'] == '>50K') & (dat['sex'] == 'Female')])\n",
        "if Mzp > Wzp:\n",
        "    q5 = \"мужчин\"\n",
        "else:\n",
        "    q5 = \"женщин\"\n",
        "print(f\"5) С ЗП >50K больше {q5} (мужчин: {Mzp}, женщин: {Wzp})\")\n",
        "\n",
        "print(\"6) Заполнение пропущенных данных:\")\n",
        "for col in ['workclass', 'occupation', 'native-country']:\n",
        "    if feat[col].isnull().sum() > 0:\n",
        "        mode_value = feat[col].mode()[0]\n",
        "        feat[col] = feat[col].fillna(mode_value)\n",
        "        print(f\"   Столбец '{col}': заполнен значением '{mode_value}'\")"
      ]
    },
    {
      "cell_type": "markdown",
      "source": [
        "1) Число столбцов в наборе данных: 15\n",
        "2) Пропуски есть в столбцах: [['workclass', 963], ['occupation', 966], ['native-country', 274]]\n",
        "3) Количество уникальных значений в столбце race: 5\n",
        "4) Медиана hours-per-week: 40.0\n",
        "5) С ЗП >50K больше мужчин (мужчин: 6662, женщин: 1179)\n",
        "6) Заполнение пропущенных данных:\n",
        "   Столбец 'workclass': заполнен значением 'Private'\n",
        "   Столбец 'occupation': заполнен значением 'Prof-specialty'\n",
        "   Столбец 'native-country': заполнен значением 'United-States'\n",
        "   Также помимо моды в числовых столбцах можно заменять медианой/средним. Либо использовать более сложные алгоритмы для заполнения пропусков на основе данных этой записи в других столбцах"
      ],
      "metadata": {
        "id": "p0KQbaJYf1Tq"
      }
    }
  ]
}